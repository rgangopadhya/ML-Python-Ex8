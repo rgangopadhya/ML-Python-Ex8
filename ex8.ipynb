{
 "metadata": {
  "name": "ex8"
 }, 
 "nbformat": 2, 
 "worksheets": [
  {
   "cells": [
    {
     "cell_type": "code", 
     "collapsed": true, 
     "input": [
      "import numpy as np", 
      "import matplotlib.pyplot as pyplot", 
      "from anomaly import *", 
      "import sys"
     ], 
     "language": "python", 
     "outputs": [], 
     "prompt_number": 1
    }, 
    {
     "cell_type": "code", 
     "collapsed": false, 
     "input": [
      "sys.path.append(r'/home/raja/Documents/MachineLearning/ex7/ex7/Python')", 
      "from kmeans import import_mlab", 
      "%pylab inline"
     ], 
     "language": "python", 
     "outputs": [
      {
       "output_type": "stream", 
       "stream": "stdout", 
       "text": [
        "", 
        "Welcome to pylab, a matplotlib-based Python environment [backend: module://IPython.zmq.pylab.backend_inline].", 
        "For more information, type 'help(pylab)'."
       ]
      }
     ], 
     "prompt_number": 2
    }, 
    {
     "cell_type": "code", 
     "collapsed": false, 
     "input": [
      "#visualizing dataset for outlier detection", 
      "", 
      "#add the matlab data to path", 
      "sys.path.append(r'/home/raja/Documents/MachineLearning/ex8')", 
      "pdata = import_mlab('ex8data1.mat')", 
      "pyplot.plot(pdata['X'][:, 0], pdata['X'][:, 1], 'bx')", 
      "pyplot.axis([0, 30, 0, 30])", 
      "pyplot.xlabel('Latency (ms)')", 
      "pyplot.ylabel('Throughput (mb/s)')"
     ], 
     "language": "python", 
     "outputs": [
      {
       "output_type": "pyout", 
       "prompt_number": 3, 
       "text": [
        "<matplotlib.text.Text at 0xab29e4c>"
       ]
      }, 
      {
       "output_type": "display_data", 
       "png": "[encoded data removed]"
      }
     ], 
     "prompt_number": 3
    }, 
    {
     "cell_type": "code", 
     "collapsed": false, 
     "input": [
      "mu, var = estimateGaussian(pdata['X'])"
     ], 
     "language": "python", 
     "outputs": [], 
     "prompt_number": 4
    }, 
    {
     "cell_type": "code", 
     "collapsed": true, 
     "input": [], 
     "language": "python", 
     "outputs": [], 
     "prompt_number": 4
    }
   ]
  }
 ]
}